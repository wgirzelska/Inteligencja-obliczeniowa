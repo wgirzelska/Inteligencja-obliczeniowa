{
 "cells": [
  {
   "cell_type": "markdown",
   "metadata": {},
   "source": [
    "Importy"
   ]
  },
  {
   "cell_type": "code",
   "execution_count": 5,
   "metadata": {},
   "outputs": [],
   "source": [
    "import pygad\n",
    "import numpy\n",
    "file_name = \"items\""
   ]
  },
  {
   "cell_type": "markdown",
   "metadata": {},
   "source": [
    "Odczyt przedmiotów z pliku"
   ]
  },
  {
   "cell_type": "code",
   "execution_count": 7,
   "metadata": {},
   "outputs": [
    {
     "ename": "NameError",
     "evalue": "name 'Item' is not defined",
     "output_type": "error",
     "traceback": [
      "\u001b[0;31m---------------------------------------------------------------------------\u001b[0m",
      "\u001b[0;31mNameError\u001b[0m                                 Traceback (most recent call last)",
      "Cell \u001b[0;32mIn[7], line 7\u001b[0m\n\u001b[1;32m      5\u001b[0m         new_line2 \u001b[38;5;241m=\u001b[39m new_line\u001b[38;5;241m.\u001b[39msplit(\u001b[38;5;124m\"\u001b[39m\u001b[38;5;124m \u001b[39m\u001b[38;5;124m\"\u001b[39m)\n\u001b[1;32m      6\u001b[0m         \u001b[38;5;28mid\u001b[39m, v, w \u001b[38;5;241m=\u001b[39m new_line2[\u001b[38;5;241m0\u001b[39m], new_line2[\u001b[38;5;241m1\u001b[39m], new_line2[\u001b[38;5;241m2\u001b[39m]\n\u001b[0;32m----> 7\u001b[0m         new_item \u001b[38;5;241m=\u001b[39m \u001b[43mItem\u001b[49m(\u001b[38;5;28mint\u001b[39m(\u001b[38;5;28mid\u001b[39m), \u001b[38;5;28mfloat\u001b[39m(v), \u001b[38;5;28mfloat\u001b[39m(w))\n\u001b[1;32m      8\u001b[0m         item_list\u001b[38;5;241m.\u001b[39mappend(new_item)\n\u001b[1;32m      9\u001b[0m limitation \u001b[38;5;241m=\u001b[39m \u001b[38;5;241m25\u001b[39m\n",
      "\u001b[0;31mNameError\u001b[0m: name 'Item' is not defined"
     ]
    }
   ],
   "source": [
    "item_list = []\n",
    "with open(\"items.txt\", \"r\") as f:\n",
    "    for line in f:\n",
    "        new_line = line.strip()\n",
    "        new_line2 = new_line.split(\" \")\n",
    "        id, v, w = new_line2[0], new_line2[1], new_line2[2]\n",
    "        new_item = Item(int(id), float(v), float(w))\n",
    "        item_list.append(new_item)\n",
    "limitation = 25\n",
    "print(item_list)"
   ]
  },
  {
   "cell_type": "markdown",
   "metadata": {},
   "source": [
    "Definiujemy parametry chromosomu - geny to liczby: 0 lub 1"
   ]
  },
  {
   "cell_type": "code",
   "execution_count": null,
   "metadata": {},
   "outputs": [],
   "source": [
    "gene_space = [0, 1]"
   ]
  },
  {
   "cell_type": "markdown",
   "metadata": {},
   "source": [
    "Rozmiar populacji i liczba generacji"
   ]
  },
  {
   "cell_type": "code",
   "execution_count": null,
   "metadata": {},
   "outputs": [],
   "source": [
    "population_size = 50\n",
    "num_generations = 100\n",
    "mutation_rate = 0.2"
   ]
  },
  {
   "cell_type": "markdown",
   "metadata": {},
   "source": [
    "Funkcja fitness - obliczamy wagę, wartość i sprawdzamy czy waga nie przekracza limitu"
   ]
  },
  {
   "cell_type": "code",
   "execution_count": null,
   "metadata": {},
   "outputs": [],
   "source": [
    "def fitness_func(solution, solution_idx):\n",
    "    weight = numpy.sum(items[:, 2] * solution)\n",
    "    value = numpy.sum(items[:, 1] * solution)\n",
    "    if weight > 25:\n",
    "        value = 0\n",
    "    return value\n",
    "\n",
    "fitness_function = fitness_func"
   ]
  },
  {
   "cell_type": "markdown",
   "metadata": {},
   "source": []
  }
 ],
 "metadata": {
  "kernelspec": {
   "display_name": "Python 3.10.8 64-bit",
   "language": "python",
   "name": "python3"
  },
  "language_info": {
   "codemirror_mode": {
    "name": "ipython",
    "version": 3
   },
   "file_extension": ".py",
   "mimetype": "text/x-python",
   "name": "python",
   "nbconvert_exporter": "python",
   "pygments_lexer": "ipython3",
   "version": "3.10.8"
  },
  "orig_nbformat": 4,
  "vscode": {
   "interpreter": {
    "hash": "aee8b7b246df8f9039afb4144a1f6fd8d2ca17a180786b69acc140d282b71a49"
   }
  }
 },
 "nbformat": 4,
 "nbformat_minor": 2
}
