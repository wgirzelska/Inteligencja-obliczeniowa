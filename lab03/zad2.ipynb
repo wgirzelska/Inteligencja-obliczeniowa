{
 "cells": [
  {
   "cell_type": "code",
   "execution_count": 1,
   "metadata": {},
   "outputs": [],
   "source": [
    "import pygad\n",
    "import random\n",
    "import numpy as np"
   ]
  },
  {
   "cell_type": "markdown",
   "metadata": {},
   "source": [
    "Labirynt zakodowany w postaci zer i jedynek. 0 - puste pola, 1 - ściany"
   ]
  },
  {
   "cell_type": "code",
   "execution_count": 2,
   "metadata": {},
   "outputs": [],
   "source": [
    "maze = [\n",
    "[1, 1, 1, 1, 1, 1, 1, 1, 1, 1, 1, 1],\n",
    "[1, 0, 0, 0, 1, 0, 0, 0, 1, 0, 0, 1],\n",
    "[1, 1, 1, 0, 0, 0, 1, 0, 1, 1, 0, 1],\n",
    "[1, 0, 0, 0, 1, 0, 1, 0, 0, 0, 0, 1],\n",
    "[1, 0, 1, 0, 1, 1, 0, 0, 1, 1, 0, 1],\n",
    "[1, 0, 0, 1, 1, 0, 0, 0, 1, 0, 0, 1],\n",
    "[1, 0, 0, 0, 0, 0, 1, 0, 0, 0, 1, 1],\n",
    "[1, 0, 1, 0, 0, 1, 1, 0, 1, 0, 0, 1],\n",
    "[1, 0, 1, 1, 1, 0, 0, 0, 1, 1, 0, 1],\n",
    "[1, 0, 1, 0, 1, 1, 0, 1, 0, 1, 0, 1],\n",
    "[1, 0, 1, 0, 0, 0, 0, 0, 0, 0, 0, 1],\n",
    "[1, 1, 1, 1, 1, 1, 1, 1, 1, 1, 1, 1]\n",
    "]"
   ]
  },
  {
   "cell_type": "markdown",
   "metadata": {},
   "source": [
    "Ruchy: 0 - dół, 1 - góra, 2 - prawo, 3 - lewo"
   ]
  },
  {
   "cell_type": "code",
   "execution_count": 3,
   "metadata": {},
   "outputs": [],
   "source": [
    "gene_space = [0, 1, 2, 3]\n",
    "chromosome_length = 30\n",
    "\n",
    "start = (1, 1)\n",
    "exit = (10, 10)\n",
    "max_steps = 30"
   ]
  },
  {
   "cell_type": "code",
   "execution_count": 4,
   "metadata": {},
   "outputs": [],
   "source": [
    "def create_population(population_size, chromosome_length, gene_space):\n",
    "    population = []\n",
    "    for i in range(population_size):\n",
    "        chromosome = []\n",
    "        for j in range(chromosome_length):\n",
    "            gene = random.choice(gene_space)\n",
    "            chromosome.append(gene)\n",
    "        population.append(chromosome)\n",
    "    return population\n",
    "\n",
    "\n",
    "initial_population = create_population(200, chromosome_length, gene_space)"
   ]
  },
  {
   "cell_type": "markdown",
   "metadata": {},
   "source": [
    "Funkcja fitness"
   ]
  },
  {
   "cell_type": "code",
   "execution_count": 8,
   "metadata": {},
   "outputs": [],
   "source": [
    "def fitness(solution, solution_idx):\n",
    "    x, y = 1, 1\n",
    "    maze_copy = np.pad(maze, (1, 1), mode='constant', constant_values=True)\n",
    "    fitness_score = 0\n",
    "    visited = np.zeros_like(maze, dtype=bool)\n",
    "\n",
    "    for gene in solution:\n",
    "        if gene == 0:  # w dół\n",
    "            if maze_copy[x+1, y] != 1:\n",
    "                x += 1\n",
    "        elif gene == 1:  # w górę\n",
    "            if maze_copy[x-1, y] != 1:\n",
    "                x -= 1\n",
    "        elif gene == 2:  # w prawo\n",
    "            if maze_copy[x, y+1] != 1:\n",
    "                y += 1\n",
    "        elif gene == 3:  # w lewo\n",
    "            if maze_copy[x, y-1] != 1:\n",
    "                y -= 1\n",
    "\n",
    "        # sprawdzenie czy nie odwiedzamy tego samego pola\n",
    "        if visited[x-1, y-1]:\n",
    "            fitness_score -= 1\n",
    "        else:\n",
    "            visited[x-1, y-1] = True\n",
    "            fitness_score += 20\n",
    "\n",
    "        if x == 10 and y == 10:\n",
    "            fitness_score += 500\n",
    "            break\n",
    "\n",
    "        # zaznaczenie, że odwiedziliśmy aktualne pole\n",
    "        maze_copy[x, y] = True\n",
    "\n",
    "        \n",
    "\n",
    "    return fitness_score"
   ]
  },
  {
   "cell_type": "markdown",
   "metadata": {},
   "source": [
    "Biblioteka pygad"
   ]
  },
  {
   "cell_type": "code",
   "execution_count": 9,
   "metadata": {},
   "outputs": [],
   "source": [
    "keep_parents = 50\n",
    "\n",
    "# Tworzenie instancji klasy pygad.GA\n",
    "ga_instance = pygad.GA(\n",
    "    num_generations=100,\n",
    "    num_parents_mating=50,\n",
    "    initial_population=initial_population,\n",
    "    gene_space=gene_space,\n",
    "    mutation_num_genes=8, \n",
    "    mutation_percent_genes=10,\n",
    "    keep_parents=keep_parents,\n",
    "    mutation_type=\"random\",\n",
    "    sol_per_pop=20, \n",
    "    fitness_func=fitness\n",
    "    )\n",
    "\n",
    "ga_instance.run()"
   ]
  },
  {
   "cell_type": "markdown",
   "metadata": {},
   "source": [
    "Wyniki"
   ]
  },
  {
   "cell_type": "code",
   "execution_count": 10,
   "metadata": {},
   "outputs": [
    {
     "name": "stdout",
     "output_type": "stream",
     "text": [
      "Best solution: [1. 1. 2. 2. 3. 2. 2. 3. 1. 2. 0. 3. 3. 1. 3. 2. 2. 3. 1. 0. 0. 0. 1. 3.\n",
      " 2. 0. 1. 1. 2. 0.]\n",
      "Best solution fitness: -9\n"
     ]
    }
   ],
   "source": [
    "best_solution = ga_instance.best_solution()\n",
    "best_solution_fitness = best_solution[1]\n",
    "best_solution = best_solution[0]\n",
    "\n",
    "print(\"Best solution:\", best_solution)\n",
    "print(\"Best solution fitness:\", best_solution_fitness)"
   ]
  }
 ],
 "metadata": {
  "kernelspec": {
   "display_name": "Python 3.10.8 64-bit",
   "language": "python",
   "name": "python3"
  },
  "language_info": {
   "codemirror_mode": {
    "name": "ipython",
    "version": 3
   },
   "file_extension": ".py",
   "mimetype": "text/x-python",
   "name": "python",
   "nbconvert_exporter": "python",
   "pygments_lexer": "ipython3",
   "version": "3.10.8"
  },
  "orig_nbformat": 4,
  "vscode": {
   "interpreter": {
    "hash": "aee8b7b246df8f9039afb4144a1f6fd8d2ca17a180786b69acc140d282b71a49"
   }
  }
 },
 "nbformat": 4,
 "nbformat_minor": 2
}
